{
 "cells": [
  {
   "cell_type": "code",
   "execution_count": 2,
   "metadata": {},
   "outputs": [],
   "source": [
    "import pandas as pd"
   ]
  },
  {
   "cell_type": "code",
   "execution_count": 5,
   "metadata": {},
   "outputs": [
    {
     "name": "stdout",
     "output_type": "stream",
     "text": [
      "                                    repo                     file_name  \\\n",
      "0  minimaxir/big-list-of-naughty-strings        scripts/txt_to_json.py   \n",
      "1                   google-research/bert    create_pretraining_data.py   \n",
      "2                   google-research/bert           extract_features.py   \n",
      "3                   google-research/bert                   modeling.py   \n",
      "4                   google-research/bert              modeling_test.py   \n",
      "5                   google-research/bert               optimization.py   \n",
      "6                   google-research/bert          optimization_test.py   \n",
      "7                   google-research/bert             run_classifier.py   \n",
      "8                   google-research/bert  run_classifier_with_tfhub.py   \n",
      "9                   google-research/bert            run_pretraining.py   \n",
      "\n",
      "                                                code  \n",
      "0  ###\\tQuick Python Script to convert the Big Li...  \n",
      "1  # coding=utf-8\\n# Copyright 2018 The Google AI...  \n",
      "2  # coding=utf-8\\n# Copyright 2018 The Google AI...  \n",
      "3  # coding=utf-8\\n# Copyright 2018 The Google AI...  \n",
      "4  # coding=utf-8\\n# Copyright 2018 The Google AI...  \n",
      "5  # coding=utf-8\\n# Copyright 2018 The Google AI...  \n",
      "6  # coding=utf-8\\n# Copyright 2018 The Google AI...  \n",
      "7  # coding=utf-8\\n# Copyright 2018 The Google AI...  \n",
      "8  # coding=utf-8\\n# Copyright 2018 The Google AI...  \n",
      "9  # coding=utf-8\\n# Copyright 2018 The Google AI...  \n"
     ]
    }
   ],
   "source": [
    "data = pd.read_csv(\"github_code_snippets.csv\")\n",
    "print(data)"
   ]
  },
  {
   "cell_type": "code",
   "execution_count": 6,
   "metadata": {},
   "outputs": [
    {
     "name": "stdout",
     "output_type": "stream",
     "text": [
      "(10, 3)\n"
     ]
    }
   ],
   "source": [
    "print(data.shape)"
   ]
  }
 ],
 "metadata": {
  "kernelspec": {
   "display_name": "Python 3",
   "language": "python",
   "name": "python3"
  },
  "language_info": {
   "codemirror_mode": {
    "name": "ipython",
    "version": 3
   },
   "file_extension": ".py",
   "mimetype": "text/x-python",
   "name": "python",
   "nbconvert_exporter": "python",
   "pygments_lexer": "ipython3",
   "version": "3.12.1"
  }
 },
 "nbformat": 4,
 "nbformat_minor": 2
}
